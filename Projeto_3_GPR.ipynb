{
 "cells": [
  {
   "cell_type": "markdown",
   "metadata": {},
   "source": [
    "**Pedro Luiz da Costa** - \n",
    "**Rafael Libertini** - \n",
    "**Gabriel Zezze**"
   ]
  },
  {
   "cell_type": "code",
   "execution_count": null,
   "metadata": {},
   "outputs": [],
   "source": [
    "import pandas as pd\n",
    "import matplotlib.pyplot as plt\n",
    "import numpy as np\n",
    "import json\n",
    "from PIL import Image\n",
    "import os\n",
    "import time\n",
    "from sklearn.ensemble import RandomForestClassifier\n",
    "import subprocess\n",
    "from sklearn.metrics import accuracy_score"
   ]
  },
  {
   "cell_type": "code",
   "execution_count": null,
   "metadata": {},
   "outputs": [],
   "source": [
    "#Essa função trata a foto vetorial para ser trabalhada\n",
    "def convert_to_pd(tabela):\n",
    "    tabela = tabela[tabela.recognized]\n",
    "    tabela['timestamp'] = pd.to_datetime(tabela.timestamp)\n",
    "    tabela['drawing'] = tabela['drawing'].apply(json.loads)\n",
    "    return tabela"
   ]
  },
  {
   "cell_type": "code",
   "execution_count": null,
   "metadata": {},
   "outputs": [],
   "source": [
    "airplane = pd.read_csv('airplane.csv')\n",
    "octopus = pd.read_csv('octopus.csv')\n",
    "airplane = convert_to_pd(airplane)\n",
    "octopus = convert_to_pd(octopus)\n",
    "\n",
    "airplane_simp = airplane[:10000]\n",
    "\n",
    "octopus_simp = octopus[:10000]"
   ]
  },
  {
   "cell_type": "code",
   "execution_count": null,
   "metadata": {},
   "outputs": [],
   "source": [
    "#Essa função normaliza o index e limpa as colunas desnecessárias\n",
    "def limpa_tabela(tabela):\n",
    "    tabela['array'] = pd.Series()\n",
    "    tabela['array'] = tabela['array'].astype(object)\n",
    "    tabela['index'] = np.arange(0,len(tabela))\n",
    "    tabela = tabela.set_index('index')\n",
    "    tabela = tabela.drop(['countrycode', 'timestamp','key_id'], axis=1)\n",
    "\n",
    "#Essa função converte as fotos vetorias em um png e salva em uma pasta com o nome da classe.\n",
    "def convert_to_png(tabela):\n",
    "    nome=tabela.word[0]\n",
    "    try:\n",
    "        subprocess.Popen(['rm', '-rf', 'fotos/{}'.format(tabela.word[0])])\n",
    "    except:\n",
    "        pass\n",
    "\n",
    "    for i, drawing in enumerate(tabela.drawing):\n",
    "        for x,y in drawing:\n",
    "            plt.plot(x, -np.array(y), lw=3, color='black')\n",
    "            plt.axis('off')\n",
    "            try:\n",
    "                plt.savefig('fotos/{}/{}{}.png'.format(nome,nome,i), dpi=8)\n",
    "            except:\n",
    "                os.makedirs('fotos/{}'.format(nome))\n",
    "                plt.savefig('fotos/{}/{}{}.png'.format(nome,nome,i), dpi=8)\n",
    "                \n",
    "        plt.gcf().clear()\n",
    "\n",
    "#Essa função le o png gerado pela função acima e cria uma coluna com o array de pixels correspondente.\n",
    "def to_array(tabela):\n",
    "    nome=tabela.word[0]\n",
    "    \n",
    "    for i in range(0,len(tabela)):\n",
    "        img = Image.open('fotos/{}/{}{}.png'.format(nome,nome,i)).convert('L')\n",
    "        arr = np.array(img)\n",
    "        \n",
    "        result = []\n",
    "        [result.extend(el) for el in arr/255]\n",
    "        tabela['array'][i] = result"
   ]
  },
  {
   "cell_type": "code",
   "execution_count": null,
   "metadata": {},
   "outputs": [],
   "source": [
    "limpa_tabela(airplane_simp)\n",
    "convert_to_png(airplane_simp)\n",
    "to_array(airplane_simp)"
   ]
  },
  {
   "cell_type": "code",
   "execution_count": null,
   "metadata": {},
   "outputs": [],
   "source": [
    "limpa_tabela(octopus_simp)\n",
    "convert_to_png(octopus_simp)\n",
    "to_array(octopus_simp)"
   ]
  },
  {
   "cell_type": "code",
   "execution_count": null,
   "metadata": {},
   "outputs": [],
   "source": [
    "#Separando o treino do teste e embaralhando o DataFrame\n",
    "train = pd.concat([airplane_simp[:5000],octopus_simp[:5000]]).sample(frac=1)\n",
    "test = pd.concat([airplane_simp[5000:6000],octopus_simp[5000:6000]]).sample(frac=1)"
   ]
  },
  {
   "cell_type": "code",
   "execution_count": null,
   "metadata": {},
   "outputs": [],
   "source": [
    "X_train = list(train['array'])\n",
    "y_train = list(train['word'])\n",
    "\n",
    "X_test = list(test['array'])\n",
    "y_test = list(test['word'])\n",
    "\n",
    "model = RandomForestClassifier()\n",
    "model.fit(X_train, y_train)\n",
    "y_pred = model.predict(X_test)\n",
    "print('Acurácia: {}'.format(accuracy_score(y_test, y_pred)))"
   ]
  },
  {
   "cell_type": "code",
   "execution_count": null,
   "metadata": {},
   "outputs": [],
   "source": [
    "#Se precisar gravar o xlsx\n",
    "#writer = pd.ExcelWriter('flower5K.xlsx', engine='xlsxwriter')\n",
    "#flower.to_excel(writer)\n",
    "#writer.save()"
   ]
  },
  {
   "cell_type": "code",
   "execution_count": null,
   "metadata": {},
   "outputs": [],
   "source": []
  }
 ],
 "metadata": {
  "kernelspec": {
   "display_name": "Python 3",
   "language": "python",
   "name": "python3"
  },
  "language_info": {
   "codemirror_mode": {
    "name": "ipython",
    "version": 3
   },
   "file_extension": ".py",
   "mimetype": "text/x-python",
   "name": "python",
   "nbconvert_exporter": "python",
   "pygments_lexer": "ipython3",
   "version": "3.6.4"
  }
 },
 "nbformat": 4,
 "nbformat_minor": 2
}
