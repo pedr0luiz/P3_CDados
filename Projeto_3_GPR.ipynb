{
 "cells": [
  {
   "cell_type": "markdown",
   "metadata": {},
   "source": [
    "## PROJETO 3 CIÊNCIA DOS DADOS ##\n",
    "\n",
    "## Classificador de desenhos ##\n",
    "\n",
    "Autores: **Pedro Luiz da Costa** - \n",
    "**Rafael Libertini** - \n",
    "**Gabriel Zezze**\n",
    "\n",
    "**Introdução:** Em nosso projeto exploramos uma base de dados com mais de 50M de arquivos vetoriais representando desenhos em 350 diferentes categorias. Frente ao desafio de criar um classificador para reconhecer desenhos dentro dessas categorias, usamos alguns métodos de machine learning oferecidos pela biblioteca scikit-learn do python."
   ]
  },
  {
   "cell_type": "code",
   "execution_count": 1,
   "metadata": {},
   "outputs": [],
   "source": [
    "#imports\n",
    "import pandas as pd\n",
    "import matplotlib.pyplot as plt\n",
    "import numpy as np\n",
    "import json\n",
    "from PIL import Image\n",
    "import os\n",
    "import time\n",
    "import subprocess\n",
    "from sklearn.metrics import accuracy_score\n",
    "import cv2\n",
    "from matplotlib.pyplot import figure\n",
    "import warnings \n",
    "warnings.filterwarnings('ignore')"
   ]
  },
  {
   "cell_type": "code",
   "execution_count": 6,
   "metadata": {},
   "outputs": [
    {
     "data": {
      "text/html": [
       "<div>\n",
       "<style scoped>\n",
       "    .dataframe tbody tr th:only-of-type {\n",
       "        vertical-align: middle;\n",
       "    }\n",
       "\n",
       "    .dataframe tbody tr th {\n",
       "        vertical-align: top;\n",
       "    }\n",
       "\n",
       "    .dataframe thead th {\n",
       "        text-align: right;\n",
       "    }\n",
       "</style>\n",
       "<table border=\"1\" class=\"dataframe\">\n",
       "  <thead>\n",
       "    <tr style=\"text-align: right;\">\n",
       "      <th></th>\n",
       "      <th>countrycode</th>\n",
       "      <th>drawing</th>\n",
       "      <th>key_id</th>\n",
       "      <th>recognized</th>\n",
       "      <th>timestamp</th>\n",
       "      <th>word</th>\n",
       "    </tr>\n",
       "  </thead>\n",
       "  <tbody>\n",
       "    <tr>\n",
       "      <th>0</th>\n",
       "      <td>US</td>\n",
       "      <td>[[[167, 109, 80, 69, 58, 31, 57, 117, 99, 52, ...</td>\n",
       "      <td>5152802093400064</td>\n",
       "      <td>True</td>\n",
       "      <td>2017-03-08 21:12:07.266040</td>\n",
       "      <td>airplane</td>\n",
       "    </tr>\n",
       "    <tr>\n",
       "      <th>1</th>\n",
       "      <td>CA</td>\n",
       "      <td>[[[2, 14, 34, 126], [57, 45, 38, 47]], [[41, 4...</td>\n",
       "      <td>6622904974311424</td>\n",
       "      <td>False</td>\n",
       "      <td>2017-03-06 21:39:04.690130</td>\n",
       "      <td>airplane</td>\n",
       "    </tr>\n",
       "    <tr>\n",
       "      <th>2</th>\n",
       "      <td>US</td>\n",
       "      <td>[[[90, 88, 95, 104, 112, 122], [65, 31, 12, 0,...</td>\n",
       "      <td>6577010312740864</td>\n",
       "      <td>True</td>\n",
       "      <td>2017-03-23 02:08:35.229980</td>\n",
       "      <td>airplane</td>\n",
       "    </tr>\n",
       "    <tr>\n",
       "      <th>3</th>\n",
       "      <td>US</td>\n",
       "      <td>[[[82, 49, 15, 4, 0, 5, 30, 85, 89, 93, 112, 1...</td>\n",
       "      <td>5643224746033152</td>\n",
       "      <td>True</td>\n",
       "      <td>2017-03-10 00:35:17.531970</td>\n",
       "      <td>airplane</td>\n",
       "    </tr>\n",
       "    <tr>\n",
       "      <th>4</th>\n",
       "      <td>IL</td>\n",
       "      <td>[[[64, 38, 23, 8, 0, 6, 26, 68], [74, 77, 84, ...</td>\n",
       "      <td>6670046841536512</td>\n",
       "      <td>True</td>\n",
       "      <td>2017-01-23 18:11:11.658170</td>\n",
       "      <td>airplane</td>\n",
       "    </tr>\n",
       "  </tbody>\n",
       "</table>\n",
       "</div>"
      ],
      "text/plain": [
       "  countrycode                                            drawing  \\\n",
       "0          US  [[[167, 109, 80, 69, 58, 31, 57, 117, 99, 52, ...   \n",
       "1          CA  [[[2, 14, 34, 126], [57, 45, 38, 47]], [[41, 4...   \n",
       "2          US  [[[90, 88, 95, 104, 112, 122], [65, 31, 12, 0,...   \n",
       "3          US  [[[82, 49, 15, 4, 0, 5, 30, 85, 89, 93, 112, 1...   \n",
       "4          IL  [[[64, 38, 23, 8, 0, 6, 26, 68], [74, 77, 84, ...   \n",
       "\n",
       "             key_id  recognized                   timestamp      word  \n",
       "0  5152802093400064        True  2017-03-08 21:12:07.266040  airplane  \n",
       "1  6622904974311424       False  2017-03-06 21:39:04.690130  airplane  \n",
       "2  6577010312740864        True  2017-03-23 02:08:35.229980  airplane  \n",
       "3  5643224746033152        True  2017-03-10 00:35:17.531970  airplane  \n",
       "4  6670046841536512        True  2017-01-23 18:11:11.658170  airplane  "
      ]
     },
     "execution_count": 6,
     "metadata": {},
     "output_type": "execute_result"
    }
   ],
   "source": [
    "airplane = pd.read_csv('csv/airplane.csv')\n",
    "octopus = pd.read_csv('csv/octopus.csv')\n",
    "flower = pd.read_csv('csv/flower.csv')\n",
    "#Verificando com o que estamos trabalhando\n",
    "airplane.head()"
   ]
  },
  {
   "cell_type": "markdown",
   "metadata": {},
   "source": [
    "Para utilizar as imagens no classificador precisa-se de uma lista com todos os pixels de cada imagem. De acordo com o DataFrame, a coluna 'drawing' mostra que o desenho obtido é vetorial, ou seja, foram dadas as cordenadas dos pontos que devem ser 'ligados'. Para obter a lista, primeiro precisamos obter a foto em uma variável e depois ler cada pixel com a intensidade da cor: 0 para preto e 255 pra branco."
   ]
  },
  {
   "cell_type": "code",
   "execution_count": 3,
   "metadata": {},
   "outputs": [],
   "source": [
    "#Essa função trata a foto vetorial para ser trabalhada\n",
    "def convert_to_pd(tabela):\n",
    "    tabela = tabela[tabela.recognized]\n",
    "    tabela['drawing'] = tabela['drawing'].apply(json.loads)\n",
    "    tabela = tabela.drop(['countrycode', 'timestamp','key_id'], axis=1)\n",
    "    return tabela"
   ]
  },
  {
   "cell_type": "code",
   "execution_count": 7,
   "metadata": {},
   "outputs": [],
   "source": [
    "airplane = convert_to_pd(airplane)\n",
    "octopus = convert_to_pd(octopus)\n",
    "flower = convert_to_pd(flower)\n",
    "\n",
    "airplane_exemplo = airplane[0:2]\n",
    "airplane_simp = airplane[:1000]\n",
    "octopus_simp = octopus[:1000]\n",
    "flower_simp = flower[:1000]"
   ]
  },
  {
   "cell_type": "code",
   "execution_count": 19,
   "metadata": {},
   "outputs": [
    {
     "data": {
      "image/png": "[encoded data removed]",
      "text/plain": [
       "<matplotlib.figure.Figure at 0x1ac4ee8c50>"
      ]
     },
     "metadata": {},
     "output_type": "display_data"
    },
    {
     "data": {
      "image/png": "[encoded data removed]",
      "text/plain": [
       "<matplotlib.figure.Figure at 0x1ac4f3aeb8>"
      ]
     },
     "metadata": {},
     "output_type": "display_data"
    }
   ],
   "source": [
    "#Plotando os desenhos\n",
    "for i, drawing in enumerate(airplane_exemplo.drawing[0:2]):\n",
    "    fig, ax = plt.subplots(figsize=(1.5, 1))\n",
    "    for x,y in drawing:\n",
    "        ax.plot(x, -np.array(y),'black')\n",
    "    ax.axis('off')\n",
    "    fig.canvas.draw()"
   ]
  },
  {
   "cell_type": "code",
   "execution_count": 9,
   "metadata": {},
   "outputs": [
    {
     "data": {
      "text/html": [
       "<div>\n",
       "<style scoped>\n",
       "    .dataframe tbody tr th:only-of-type {\n",
       "        vertical-align: middle;\n",
       "    }\n",
       "\n",
       "    .dataframe tbody tr th {\n",
       "        vertical-align: top;\n",
       "    }\n",
       "\n",
       "    .dataframe thead th {\n",
       "        text-align: right;\n",
       "    }\n",
       "</style>\n",
       "<table border=\"1\" class=\"dataframe\">\n",
       "  <thead>\n",
       "    <tr style=\"text-align: right;\">\n",
       "      <th></th>\n",
       "      <th>drawing</th>\n",
       "      <th>recognized</th>\n",
       "      <th>word</th>\n",
       "      <th>array</th>\n",
       "    </tr>\n",
       "  </thead>\n",
       "  <tbody>\n",
       "    <tr>\n",
       "      <th>0</th>\n",
       "      <td>[[[167, 109, 80, 69, 58, 31, 57, 117, 99, 52, ...</td>\n",
       "      <td>True</td>\n",
       "      <td>airplane</td>\n",
       "      <td>[1.0, 1.0, 1.0, 1.0, 1.0, 1.0, 1.0, 1.0, 1.0, ...</td>\n",
       "    </tr>\n",
       "    <tr>\n",
       "      <th>2</th>\n",
       "      <td>[[[90, 88, 95, 104, 112, 122], [65, 31, 12, 0,...</td>\n",
       "      <td>True</td>\n",
       "      <td>airplane</td>\n",
       "      <td>[1.0, 1.0, 1.0, 1.0, 1.0, 1.0, 1.0, 1.0, 1.0, ...</td>\n",
       "    </tr>\n",
       "  </tbody>\n",
       "</table>\n",
       "</div>"
      ],
      "text/plain": [
       "                                             drawing  recognized      word  \\\n",
       "0  [[[167, 109, 80, 69, 58, 31, 57, 117, 99, 52, ...        True  airplane   \n",
       "2  [[[90, 88, 95, 104, 112, 122], [65, 31, 12, 0,...        True  airplane   \n",
       "\n",
       "                                               array  \n",
       "0  [1.0, 1.0, 1.0, 1.0, 1.0, 1.0, 1.0, 1.0, 1.0, ...  \n",
       "2  [1.0, 1.0, 1.0, 1.0, 1.0, 1.0, 1.0, 1.0, 1.0, ...  "
      ]
     },
     "execution_count": 9,
     "metadata": {},
     "output_type": "execute_result"
    }
   ],
   "source": [
    "#Lendo a foto, convertendo para o array de pixels e salvando em uma coluna do DataFrame\n",
    "result = []\n",
    "for i, drawing in enumerate(airplane_exemplo.drawing[0:2]):\n",
    "    fig, ax = plt.subplots(figsize=(1.5, 1))\n",
    "    for x,y in drawing:\n",
    "        ax.plot(x, y,'black')\n",
    "    ax.axis('off')\n",
    "    fig.canvas.draw()\n",
    "    #Conversão do tamanho da foto para pixels\n",
    "    width, height = fig.get_size_inches() * fig.get_dpi()\n",
    "    width = int(width)\n",
    "    height = int(height)\n",
    "    #Como a função retorna 3 valores para cada pixel(RGB), e estamos trabalhando apenas com preto e branco, utilizamos\n",
    "    #a função reshape para utilizar um valor e otimizar o trabalho.\n",
    "    image = np.fromstring(fig.canvas.tostring_rgb(), dtype='uint8').reshape(height, width, 3)\n",
    "    #Concatenando as listas\n",
    "    gray_image = cv2.cvtColor(image, cv2.COLOR_RGB2GRAY).flatten()/255\n",
    "    plt.close(fig)\n",
    "    #Transformando o array em uma lista\n",
    "    gr_img = list(gray_image)\n",
    "    result.append(gr_img)\n",
    "\n",
    "airplane_exemplo['array'] = result\n",
    "\n",
    "airplane_exemplo"
   ]
  },
  {
   "cell_type": "markdown",
   "metadata": {},
   "source": [
    "Para facilitar o trabalho compactamos o exemplo acima em uma função."
   ]
  },
  {
   "cell_type": "code",
   "execution_count": 10,
   "metadata": {},
   "outputs": [],
   "source": [
    "def to_array(drawing):\n",
    "    fig, ax = plt.subplots(figsize=(1.5, 1))\n",
    "    for x,y in drawing:\n",
    "        ax.plot(x, y,'black')\n",
    "    ax.axis('off')\n",
    "    fig.canvas.draw()\n",
    "    width, height = fig.get_size_inches() * fig.get_dpi()\n",
    "    width = int(width)\n",
    "    height = int(height)\n",
    "    image = np.fromstring(fig.canvas.tostring_rgb(), dtype='uint8').reshape(height, width, 3)\n",
    "    gray_image = cv2.cvtColor(image, cv2.COLOR_RGB2GRAY).flatten()/255\n",
    "    plt.close(fig)\n",
    "    gr_img = list(gray_image)\n",
    "    return gr_img"
   ]
  },
  {
   "cell_type": "code",
   "execution_count": 11,
   "metadata": {},
   "outputs": [],
   "source": [
    "#Convertendo para array\n",
    "airplane_simp['array'] = airplane_simp['drawing'].apply(to_array)\n",
    "octopus_simp['array'] = octopus_simp['drawing'].apply(to_array)\n",
    "flower_simp['array'] = flower_simp['drawing'].apply(to_array)"
   ]
  },
  {
   "cell_type": "code",
   "execution_count": 12,
   "metadata": {},
   "outputs": [],
   "source": [
    "#Separando o treino do teste e embaralhando o DataFrame\n",
    "train = pd.concat([airplane_simp[:800],octopus_simp[:800], flower_simp[:800]]).sample(frac=1)\n",
    "test = pd.concat([airplane_simp[800:1000],octopus_simp[800:1000], octopus_simp[800:1000]]).sample(frac=1)\n",
    "\n",
    "\n",
    "train['array'] = train['array']\n",
    "test['array'] = test['array']\n",
    "\n",
    "X_train = list(train['array'])\n",
    "y_train = list(train['word'])\n",
    "\n",
    "X_test = list(test['array'])\n",
    "y_test = list(test['word'])"
   ]
  },
  {
   "cell_type": "markdown",
   "metadata": {},
   "source": [
    "## Random Forest ##\n",
    "\n",
    "O primeiro método avaliado foi o Random Forest, um método baseado em árvores de decisão. Para entendermos como esse método funciona, precisamos entender o conceito de uma árvore de decisão. \n",
    "\n",
    "Um bom exemplo para abstrair esse conceito conceito é a previsão da temperatura máxima de amanhã na cidade de São Paulo, dia 15 de Janeiro. Se não soubermos em qual mês estamos, é razoável definir um escopo de estimativas de 15°C a 38°C, sabendo que essas são as mínimas e máximas anuais. Podemos fazer alguma pergunta para melhorar essa estimativa, como por exemplo, “ Em que estação estamos? ”. Se estamos no verão, nosso escopo diminui para 22°C a 38°C. Perguntando, “Qual a temperatura máxima histórica nos dia 15 de Janeiro” (31°C) diminuímos para 27°C a 37°C. Estamos chegando perto, porém, para fazer uma melhor previsão, podemos nos perguntar “Qual foi a temperatura máxima hoje?”, sabendo que hoje a máxima foi de 29°C podemos pensar que o ano foi um pouco mais frio que a média histórica, finalizando nossa predição dizendo que amanhã a máxima será de 30°C.\n",
    "\n",
    "![image.png](img/image.png)\n",
    "\n",
    "Poderíamos seguir fazendo infinitas questões, porém, a partir desse ponto, o retorno só irá diminuir, portanto podemos seguir com nossa estimativa atual sem grandes perdas de confiança no resultado e sem desperdiçar esforço. Resumindo o exemplo, para chegar em uma predição fizemos uma série de perguntas, cada uma reduzindo o escopo de possíveis resultados, até chegarmos em um resultado que estávamos confiantes(isso tudo sem gastar esforço desnecessário). Esse processo ainda não é a árvore de decisão, porém, nos auxiliará no seu entendimento. Podemos resumir nossa predição em um gráfico. \n",
    "\n",
    "Fizemos nossa predição com base em um modelo mental de pergunta-e-resposta, que nada mais é que uma árvore de decisões simplificada.\n",
    "\n",
    "As duas principais diferenças entre nosso modelo e a árvore de decisões são, primeiramente, o fato de termos negligenciado a os ramos alternativos, ou seja, a predição que teríamos chegado se a resposta às questões fosse diferente (ex: Se a resposta às estações fosse inverno.) e, por último, uma característica muito diferente é que a árvore de decisões só aceita perguntas de sim e não (True ou False), portanto para a pergunta da temperatura hoje, o método perguntara todas as possíveis temperaturas, e alguma delas terá resposta True, enquanto as outras tem False.\n",
    "\n",
    "Portanto um diagrama de árvore de decisões bem simplificado ficará parecido com a  figura abaixo:\n",
    "\t\t\n",
    "![arvore_decisoes.png](img/image2.png)        \n",
    "        \n",
    "Esse diagrama pode parecer muito diferente do nosso modelo mental, porém ele é apenas uma expansão dele. Nosso modelo está contido nessa árvore, basta tomar o caminho mais abaixo e seguir por nossas respostas e chegamos a mesma predição.\n",
    "\n",
    "O modelo Random Forest, em sua essência, é uma árvore de decisões, que consegue decidir as “perguntas” que  irá fazer, partindo dos dados que colocamos, e assim, montar uma árvore que consiga englobar o máximo de casos para fazer uma previsão coerente.\n",
    "\tApesar de simples nosso modelo já serve para fazer algumas predições, porém ele não tem nenhum conhecimento prévio do assunto, assim ele não sabe que se Inverno = Mais Frio, ele tem que aprender todas as relações com os dados do problema que jogamos nele. Chegamos agora a parte de Machine Learning, onde vamos treinar nosso Random Forest para que ele possa efetivamente fazer predições. Temos que então separar um pedaço de nossos dados, geralmente 80%, para alimentar o programa. Damos ao Machine Learning todos os dados relevantes ao problema, e dizemos qual o resultado desses dados.\n",
    "    \n",
    "Seguindo nosso exemplo da temperatura, precisamos de uma base de dados com informações relevantes para a previsão de tempo (conhecidas como “Features”) e dos valores da temperatura naqueles dias (valor que nós queremos prever “target”). Assim, ele “entenderá” que fatores levam a um específico resultado. Essa é chamada a fase de treino, que deve ser feita antes de qualquer previsão.\n",
    "   \n",
    "Com nosso Random Forest treinado, podemos agora usar o que sobrou dos nossos dados como base de Teste. Utilizando os mesmos tipos de variáveis que o modelo treinou, nós damos um cenário para o modelo e ele nos retorna um valor de temperatura, baseado no que ele sabe sobre dias com essas característica. Um exemplo muito simplificado é o de treinarmos com uma base que em janeiro a temperatura é sempre maior que 30 graus, portanto, se nós tentarmos prever a temperatura em um dia de janeiro, ele nos retorna  uma temperatura maior que 30 graus.\n",
    "\n",
    "Para nosso trabalho utilizamos a biblioteca Scikit Learn do Python, que conta com vários métodos de machine learning. Aplicamos nossas imagens como treino, e como target demos as suas categorias. O random forest nos retorna um modelo treinado, e quando colocamos uma foto nova ele nos retorna a possível categoria de target em que ela pode se encaixar."
   ]
  },
  {
   "cell_type": "code",
   "execution_count": 20,
   "metadata": {},
   "outputs": [
    {
     "name": "stdout",
     "output_type": "stream",
     "text": [
      "Acurácia: 0.8066666666666666\n"
     ]
    }
   ],
   "source": [
    "from sklearn.ensemble import RandomForestClassifier\n",
    "\n",
    "model = RandomForestClassifier()\n",
    "model.fit(X_train, y_train)\n",
    "y_pred = model.predict(X_test)\n",
    "print('Acurácia: {}'.format(accuracy_score(y_test, y_pred)))"
   ]
  },
  {
   "cell_type": "markdown",
   "metadata": {},
   "source": [
    "## Stochastic Gradient Descent (SGD) ##\n",
    "\n",
    "Outro método que testamos foi o SGD (“Stochastic gradient descent”), método muito comum no mundo do machine learning, por ser muito eficaz e relativamente simples de ser implementado.\n",
    "\n",
    "O SGD é um algoritmo de otimização baseado em funções convexas; ele pode minimizar uma função para seu mínimo, a partir de mudanças em seus parâmetros, que o método aplica de maneira iterativa.\n",
    "\n",
    "Para entendermos melhor o método precisamos definir um importante aspecto utilizado, o gradiente. Ele pode ser entendido como a taxa de variação de uma dada função, ou seja, quanto a saída dessa função mudará, dado um pequeno incremento em sua entrada. Ou seja, quanto maior o gradiente, maior a derivada (taxa de variação) e portanto, o modelo irá aprender mais rapidamente e se o gradiente for zero, o modelo não aprenderá mais. Uma definição matemática do gradiente é a derivada parcial, com respeito a entrada da função.\n",
    "\n",
    "Podemos imaginar o SGD como alguém vendado tentando subir uma montanha com menor número de  passos possíveis. No começo ele dará largos passos na parte mais inclinada da montanha, porém ao chegar perto do topo, ele diminui seus passos, para não arriscar passar o cume. Esse processo pode ser descrito a partir de um gradiente.\n",
    "\n",
    "Se visualizarmos a figura abaixo, como uma vista superior da montanha, com as linhas representando uma mudança de altitude (curva de nível). As setas vermelhas representam os passos do nosso homem hipotético. A partir da imagem podemos abstrair o gradiente como um vetor, que indica a direção do passo na direção mais íngreme.\n",
    "\n",
    "![exemplo_sgd.png](img/image3.png)  \n",
    "\n",
    "Podemos notar que o gradiente de X0 a X1 é muito mais longo que o de X3 a X4, isso ocorre pois a colina fica menos íngreme conforme nosso amigo sobe a montanha. Isso se relaciona com a taxa de variação diminuindo em um função convexa, conforme chegamos em seu máximo (“cume da montanha”), a taxa de variação diminui.\n",
    "\n",
    "O SGD pode ser programado também para chegar no fundo de um vale, ou o mínimo de uma função. O que queremos, basicamente, é chegar lá o mais rápido possível, sem correr o risco de passar reto e ter que fazer meia volta. O caminho que tomamos até chegar ao nosso mínimo ou máximo é chamado de taxa de aprendizagem, e pode ser resumido em duas imagens:\n",
    "\n",
    "![exemplo_sgd.png](img/image4.png)  \n",
    "\n",
    "Na imagem vemos os dois extremos da taxa de aprendizagem, uma taxa alta, nos dá um caminho errado, onde passamos muitas vezes do objetivo e temos que dar meia volta, pois tomamos passos muito grandes, a segunda nos mostra uma abordagem muito conservadora, onde, para não correr o risco de não errar, tomamos passos muito pequenos, e acabamos demorando uma eternidade para chegar ao destino. Nosso trabalho é otimizar essa taxa de modo a chegar rápida e eficientemente a nosso mínimo. Se plantarmos diferentes taxas de aprendizado podemos padronizar o que seria uma taxa boa ou ruim:\n",
    "\n",
    "![exemplo_sgd.png](img/image5.png)  \n",
    "\n",
    "A esquerda temos a taxa ideal, onde sempre diminuirmos nossa função até chegarmos no mínimo absoluto, e a direita alguns exemplos de taxas incorretas, onde a função sempre cresce ou estabiliza num valor maior que o mínimo real.\n",
    "\n",
    "Entender melhor as técnicas de machine learning nos fez refletir sobre como melhorar a performance de nosso classificador, permitindo-nos obter um resultado mais próximo da realidade.\n"
   ]
  },
  {
   "cell_type": "code",
   "execution_count": 1,
   "metadata": {},
   "outputs": [
    {
     "ename": "NameError",
     "evalue": "name 'np' is not defined",
     "output_type": "error",
     "traceback": [
      "\u001b[1;31m---------------------------------------------------------------------------\u001b[0m",
      "\u001b[1;31mNameError\u001b[0m                                 Traceback (most recent call last)",
      "\u001b[1;32m<ipython-input-1-4699103bd664>\u001b[0m in \u001b[0;36m<module>\u001b[1;34m()\u001b[0m\n\u001b[0;32m      2\u001b[0m \u001b[0mRANDOM_SEED\u001b[0m \u001b[1;33m=\u001b[0m \u001b[1;36m42\u001b[0m\u001b[1;33m\u001b[0m\u001b[0m\n\u001b[0;32m      3\u001b[0m \u001b[1;33m\u001b[0m\u001b[0m\n\u001b[1;32m----> 4\u001b[1;33m \u001b[0mnp\u001b[0m\u001b[1;33m.\u001b[0m\u001b[0mrandom\u001b[0m\u001b[1;33m.\u001b[0m\u001b[0mseed\u001b[0m\u001b[1;33m(\u001b[0m\u001b[0mRANDOM_SEED\u001b[0m\u001b[1;33m)\u001b[0m\u001b[1;33m\u001b[0m\u001b[0m\n\u001b[0m\u001b[0;32m      5\u001b[0m \u001b[1;33m\u001b[0m\u001b[0m\n\u001b[0;32m      6\u001b[0m \u001b[0msgd_clf\u001b[0m \u001b[1;33m=\u001b[0m \u001b[0mSGDClassifier\u001b[0m\u001b[1;33m(\u001b[0m\u001b[0mmax_iter\u001b[0m\u001b[1;33m=\u001b[0m\u001b[1;36m5\u001b[0m\u001b[1;33m,\u001b[0m \u001b[0mtol\u001b[0m\u001b[1;33m=\u001b[0m\u001b[1;32mNone\u001b[0m\u001b[1;33m,\u001b[0m \u001b[0mrandom_state\u001b[0m\u001b[1;33m=\u001b[0m\u001b[0mRANDOM_SEED\u001b[0m\u001b[1;33m)\u001b[0m\u001b[1;33m\u001b[0m\u001b[0m\n",
      "\u001b[1;31mNameError\u001b[0m: name 'np' is not defined"
     ]
    }
   ],
   "source": [
    "from sklearn.linear_model import SGDClassifier\n",
    "RANDOM_SEED = 42\n",
    "\n",
    "np.random.seed(RANDOM_SEED)\n",
    "\n",
    "sgd_clf = SGDClassifier(max_iter=5, tol=None, random_state=RANDOM_SEED) \n",
    "sgd_clf.fit(X_train, y_train)\n",
    "y_pred = sgd_clf.predict(X_test)\n",
    "print('Acurácia: {}'.format(accuracy_score(y_test, y_pred)))"
   ]
  },
  {
   "cell_type": "markdown",
   "metadata": {},
   "source": [
    "## Conclusão \n",
    "\n",
    "\n",
    "Nosso modelo foi treinado usando dois métodos de machine learning, e ambos tiveram acurácias parecidas, conseguindo prever qual categoria se encaixa um desenho. \n",
    "De início estávamos usando na casa de 20 mil fotos para o treino, porém, após a aproximação do código, obtivemos um excelente resultado, usando mil fotos por categoria. \n",
    "Uma possível aplicação para nosso projeto é um sistema de reconhecimento de assinaturas. Se tivermos uma base de dados com assinaturas, podemos tratá-las como tratamos nossos desenhos, treinando com a base de dados, e testando com uma nova assinatura. Isso pode ser aplicado em uma farmácia on-line por exemplo, onde o site pode verificar a assinatura de médicos.\n"
   ]
  }
 ],
 "metadata": {
  "kernelspec": {
   "display_name": "Python 3",
   "language": "python",
   "name": "python3"
  },
  "language_info": {
   "codemirror_mode": {
    "name": "ipython",
    "version": 3
   },
   "file_extension": ".py",
   "mimetype": "text/x-python",
   "name": "python",
   "nbconvert_exporter": "python",
   "pygments_lexer": "ipython3",
   "version": "3.6.4"
  }
 },
 "nbformat": 4,
 "nbformat_minor": 2
}
