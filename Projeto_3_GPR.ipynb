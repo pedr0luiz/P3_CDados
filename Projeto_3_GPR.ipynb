{
 "cells": [
  {
   "cell_type": "markdown",
   "metadata": {},
   "source": [
    "**Pedro Luiz da Costa** - \n",
    "**Rafael Libertini** - \n",
    "**Gabriel Zezze**"
   ]
  },
  {
   "cell_type": "code",
   "execution_count": 35,
   "metadata": {},
   "outputs": [],
   "source": [
    "import pandas as pd\n",
    "import matplotlib.pyplot as plt\n",
    "import numpy as np\n",
    "import json\n",
    "from PIL import Image\n",
    "import os"
   ]
  },
  {
   "cell_type": "code",
   "execution_count": 115,
   "metadata": {},
   "outputs": [],
   "source": [
    "def convert_to_pd(tabela):\n",
    "    tabela = tabela[tabela.recognized]\n",
    "    tabela['timestamp'] = pd.to_datetime(tabela.timestamp)\n",
    "    tabela['drawing'] = tabela['drawing'].apply(json.loads)\n",
    "    return tabela"
   ]
  },
  {
   "cell_type": "code",
   "execution_count": null,
   "metadata": {},
   "outputs": [],
   "source": [
    "airplane = pd.read_csv('airplane.csv')\n",
    "a1 = convert_to_pd(airplane)"
   ]
  },
  {
   "cell_type": "code",
   "execution_count": 105,
   "metadata": {},
   "outputs": [],
   "source": [
    "def convert_to_array(tabela):\n",
    "    \n",
    "    tudo_flat_arr = []\n",
    "\n",
    "    for i, drawing in enumerate(tabela.drawing):\n",
    "        for x,y in drawing:\n",
    "            plt.plot(x, -np.array(y), lw=3, color='black')\n",
    "            plt.axis('off')\n",
    "            try:\n",
    "                plt.savefig('fotos/{}/{}.png'.format(tabela.word[0],tabela.word[0]), dpi=10)\n",
    "            except:\n",
    "                os.makedirs('fotos/{}'.format(tabela.word[0]))\n",
    "                plt.savefig('fotos/{}/{}.png'.format(tabela.word[0],tabela.word[0]), dpi=10)\n",
    "        plt.gcf().clear()\n",
    "\n",
    "        img = Image.open('fotos/{}/{}.png'.format(tabela.word[0],tabela.word[0])).convert('RGBA')\n",
    "        arr = np.array(img)\n",
    "\n",
    "        flat_arr = []\n",
    "        for i in arr:\n",
    "            for e in i:\n",
    "                media = np.mean(e[:3])/255\n",
    "                flat_arr.append(media)\n",
    "        tudo_flat_arr.append(flat_arr)\n",
    "\n",
    "    tabela['array'] = tudo_flat_arr"
   ]
  },
  {
   "cell_type": "code",
   "execution_count": 113,
   "metadata": {},
   "outputs": [
    {
     "name": "stderr",
     "output_type": "stream",
     "text": [
      "/Users/Pedro/anaconda3/lib/python3.6/site-packages/ipykernel_launcher.py:26: SettingWithCopyWarning: \n",
      "A value is trying to be set on a copy of a slice from a DataFrame.\n",
      "Try using .loc[row_indexer,col_indexer] = value instead\n",
      "\n",
      "See the caveats in the documentation: http://pandas.pydata.org/pandas-docs/stable/indexing.html#indexing-view-versus-copy\n"
     ]
    },
    {
     "data": {
      "text/html": [
       "<div>\n",
       "<style scoped>\n",
       "    .dataframe tbody tr th:only-of-type {\n",
       "        vertical-align: middle;\n",
       "    }\n",
       "\n",
       "    .dataframe tbody tr th {\n",
       "        vertical-align: top;\n",
       "    }\n",
       "\n",
       "    .dataframe thead th {\n",
       "        text-align: right;\n",
       "    }\n",
       "</style>\n",
       "<table border=\"1\" class=\"dataframe\">\n",
       "  <thead>\n",
       "    <tr style=\"text-align: right;\">\n",
       "      <th></th>\n",
       "      <th>countrycode</th>\n",
       "      <th>drawing</th>\n",
       "      <th>key_id</th>\n",
       "      <th>recognized</th>\n",
       "      <th>timestamp</th>\n",
       "      <th>word</th>\n",
       "      <th>array</th>\n",
       "    </tr>\n",
       "  </thead>\n",
       "  <tbody>\n",
       "    <tr>\n",
       "      <th>0</th>\n",
       "      <td>US</td>\n",
       "      <td>[[[167, 109, 80, 69, 58, 31, 57, 117, 99, 52, ...</td>\n",
       "      <td>5152802093400064</td>\n",
       "      <td>True</td>\n",
       "      <td>2017-03-08 21:12:07.266040</td>\n",
       "      <td>airplane</td>\n",
       "      <td>[1.0, 1.0, 1.0, 1.0, 1.0, 1.0, 1.0, 1.0, 1.0, ...</td>\n",
       "    </tr>\n",
       "    <tr>\n",
       "      <th>2</th>\n",
       "      <td>US</td>\n",
       "      <td>[[[90, 88, 95, 104, 112, 122], [65, 31, 12, 0,...</td>\n",
       "      <td>6577010312740864</td>\n",
       "      <td>True</td>\n",
       "      <td>2017-03-23 02:08:35.229980</td>\n",
       "      <td>airplane</td>\n",
       "      <td>[1.0, 1.0, 1.0, 1.0, 1.0, 1.0, 1.0, 1.0, 1.0, ...</td>\n",
       "    </tr>\n",
       "    <tr>\n",
       "      <th>3</th>\n",
       "      <td>US</td>\n",
       "      <td>[[[82, 49, 15, 4, 0, 5, 30, 85, 89, 93, 112, 1...</td>\n",
       "      <td>5643224746033152</td>\n",
       "      <td>True</td>\n",
       "      <td>2017-03-10 00:35:17.531970</td>\n",
       "      <td>airplane</td>\n",
       "      <td>[1.0, 1.0, 1.0, 1.0, 1.0, 1.0, 1.0, 1.0, 1.0, ...</td>\n",
       "    </tr>\n",
       "  </tbody>\n",
       "</table>\n",
       "</div>"
      ],
      "text/plain": [
       "  countrycode                                            drawing  \\\n",
       "0          US  [[[167, 109, 80, 69, 58, 31, 57, 117, 99, 52, ...   \n",
       "2          US  [[[90, 88, 95, 104, 112, 122], [65, 31, 12, 0,...   \n",
       "3          US  [[[82, 49, 15, 4, 0, 5, 30, 85, 89, 93, 112, 1...   \n",
       "\n",
       "             key_id  recognized                  timestamp      word  \\\n",
       "0  5152802093400064        True 2017-03-08 21:12:07.266040  airplane   \n",
       "2  6577010312740864        True 2017-03-23 02:08:35.229980  airplane   \n",
       "3  5643224746033152        True 2017-03-10 00:35:17.531970  airplane   \n",
       "\n",
       "                                               array  \n",
       "0  [1.0, 1.0, 1.0, 1.0, 1.0, 1.0, 1.0, 1.0, 1.0, ...  \n",
       "2  [1.0, 1.0, 1.0, 1.0, 1.0, 1.0, 1.0, 1.0, 1.0, ...  \n",
       "3  [1.0, 1.0, 1.0, 1.0, 1.0, 1.0, 1.0, 1.0, 1.0, ...  "
      ]
     },
     "execution_count": 113,
     "metadata": {},
     "output_type": "execute_result"
    },
    {
     "data": {
      "text/plain": [
       "<matplotlib.figure.Figure at 0x13a0bab00>"
      ]
     },
     "metadata": {},
     "output_type": "display_data"
    }
   ],
   "source": [
    "convert_to_array(a2)\n",
    "a2"
   ]
  },
  {
   "cell_type": "code",
   "execution_count": null,
   "metadata": {},
   "outputs": [],
   "source": []
  }
 ],
 "metadata": {
  "kernelspec": {
   "display_name": "Python 3",
   "language": "python",
   "name": "python3"
  },
  "language_info": {
   "codemirror_mode": {
    "name": "ipython",
    "version": 3
   },
   "file_extension": ".py",
   "mimetype": "text/x-python",
   "name": "python",
   "nbconvert_exporter": "python",
   "pygments_lexer": "ipython3",
   "version": "3.6.4"
  }
 },
 "nbformat": 4,
 "nbformat_minor": 2
}
